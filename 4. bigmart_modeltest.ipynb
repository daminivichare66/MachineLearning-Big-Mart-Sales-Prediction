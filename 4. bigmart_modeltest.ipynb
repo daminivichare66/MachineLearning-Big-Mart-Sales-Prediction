{
 "cells": [
  {
   "cell_type": "markdown",
   "id": "55a08274",
   "metadata": {},
   "source": [
    "### Import Libraries"
   ]
  },
  {
   "cell_type": "code",
   "execution_count": 1,
   "id": "d77c03c3",
   "metadata": {},
   "outputs": [],
   "source": [
    "import pandas as pd\n",
    "from sklearn.model_selection import train_test_split\n",
    "from sklearn.linear_model import LinearRegression, Ridge, Lasso\n",
    "from sklearn.tree import DecisionTreeRegressor\n",
    "from sklearn.ensemble import RandomForestRegressor, GradientBoostingRegressor\n",
    "import xgboost as xgb\n",
    "import lightgbm as lgb\n",
    "from catboost import CatBoostRegressor\n",
    "from sklearn.metrics import mean_squared_error\n",
    "from sklearn.model_selection import GridSearchCV\n",
    "import numpy as np\n",
    "import joblib"
   ]
  },
  {
   "cell_type": "markdown",
   "id": "dd3094f0",
   "metadata": {},
   "source": [
    "### Read CSV file"
   ]
  },
  {
   "cell_type": "code",
   "execution_count": 2,
   "id": "9d6ea6f3",
   "metadata": {
    "id": "TvU9Swqficl2"
   },
   "outputs": [],
   "source": [
    "test_data = pd.read_csv('test_data.csv')"
   ]
  },
  {
   "cell_type": "markdown",
   "id": "82f638f4",
   "metadata": {},
   "source": [
    "### Load the model"
   ]
  },
  {
   "cell_type": "code",
   "execution_count": 3,
   "id": "b8cc41ac",
   "metadata": {},
   "outputs": [],
   "source": [
    "best_gb_model = joblib.load('best_gb_model.pkl')"
   ]
  },
  {
   "cell_type": "markdown",
   "id": "7075d004",
   "metadata": {},
   "source": [
    "### Check for 1 instance"
   ]
  },
  {
   "cell_type": "code",
   "execution_count": 4,
   "id": "c5bb1a90",
   "metadata": {},
   "outputs": [
    {
     "name": "stdout",
     "output_type": "stream",
     "text": [
      "Enter Item Identifier: 156\n",
      "Enter Item Weight: 9.3\n",
      "Enter Item Fat Content: 1\n",
      "Enter Item Visibility: 0.016047301\n",
      "Enter Item Type: 4\n",
      "Enter Item MRP: 249.8092\n",
      "Enter Outlet Identifier: 9\n",
      "Enter Outlet Establishment Year: 1999\n",
      "Enter Outlet Size: 2\n",
      "Enter Outlet Location Type: 1\n",
      "Enter Outlet Type: 1\n",
      "Predictions: [4227.56546044]\n"
     ]
    }
   ],
   "source": [
    "# Get user inputs\n",
    "new_item_identifier = input(\"Enter Item Identifier: \")\n",
    "item_weight = float(input(\"Enter Item Weight: \"))\n",
    "item_fat_content = input(\"Enter Item Fat Content: \")\n",
    "item_visibility = float(input(\"Enter Item Visibility: \"))\n",
    "item_type = input(\"Enter Item Type: \")\n",
    "item_mrp = float(input(\"Enter Item MRP: \"))\n",
    "outlet_identifier = input(\"Enter Outlet Identifier: \")\n",
    "outlet_establishment_year = int(input(\"Enter Outlet Establishment Year: \"))\n",
    "outlet_size = input(\"Enter Outlet Size: \")\n",
    "outlet_location_type = input(\"Enter Outlet Location Type: \")\n",
    "outlet_type = input(\"Enter Outlet Type: \")\n",
    "\n",
    "# Prepare input data\n",
    "new_data = pd.DataFrame({\n",
    "    'Item_Identifier': [new_item_identifier],\n",
    "    'Item_Weight': [item_weight],\n",
    "    'Item_Fat_Content': [item_fat_content],\n",
    "    'Item_Visibility': [item_visibility],\n",
    "    'Item_Type': [item_type],\n",
    "    'Item_MRP': [item_mrp],\n",
    "    'Outlet_Identifier': [outlet_identifier],\n",
    "    'Outlet_Establishment_Year': [outlet_establishment_year],\n",
    "    'Outlet_Size': [outlet_size],\n",
    "    'Outlet_Location_Type': [outlet_location_type],\n",
    "    'Outlet_Type': [outlet_type]\n",
    "})\n",
    "\n",
    "# Make predictions\n",
    "predictions = best_gb_model.predict(new_data)\n",
    "\n",
    "# Display the predictions\n",
    "print(\"Predictions:\", predictions)"
   ]
  },
  {
   "cell_type": "markdown",
   "id": "2dd8ae84",
   "metadata": {},
   "source": [
    "### Check the difference"
   ]
  },
  {
   "cell_type": "code",
   "execution_count": 5,
   "id": "0aec6ac6",
   "metadata": {},
   "outputs": [
    {
     "name": "stdout",
     "output_type": "stream",
     "text": [
      "Absolute Difference: 492.4274604399998\n",
      "Percentage Error: 13.183648380327575\n"
     ]
    }
   ],
   "source": [
    "actual_value = 3735.138\n",
    "predicted_value = 4227.56546044\n",
    "\n",
    "# Calculate absolute difference\n",
    "abs_diff = abs(actual_value - predicted_value)\n",
    "\n",
    "# Calculate percentage error\n",
    "percentage_error = (abs_diff / actual_value) * 100\n",
    "\n",
    "print(\"Absolute Difference:\", abs_diff)\n",
    "print(\"Percentage Error:\", percentage_error)"
   ]
  },
  {
   "cell_type": "markdown",
   "id": "e7160fc0",
   "metadata": {},
   "source": [
    "### Make predictions on the test data"
   ]
  },
  {
   "cell_type": "code",
   "execution_count": 6,
   "id": "69836b34",
   "metadata": {},
   "outputs": [],
   "source": [
    "predictions = best_gb_model.predict(test_data)"
   ]
  },
  {
   "cell_type": "markdown",
   "id": "a8ee90de",
   "metadata": {},
   "source": [
    "### Load and reverse label encoder instances from files"
   ]
  },
  {
   "cell_type": "code",
   "execution_count": 7,
   "id": "cca85336",
   "metadata": {},
   "outputs": [],
   "source": [
    "label_encoder_item = joblib.load('label_encoder_item.joblib')\n",
    "label_encoder_outlet = joblib.load('label_encoder_outlet.joblib')\n",
    "\n",
    "test_data['Item_Identifier'] = label_encoder_item.inverse_transform(test_data['Item_Identifier'])\n",
    "\n",
    "test_data['Outlet_Identifier'] = label_encoder_outlet.inverse_transform(test_data['Outlet_Identifier'])"
   ]
  },
  {
   "cell_type": "markdown",
   "id": "91326532",
   "metadata": {},
   "source": [
    "### Add the predictions as a new column in your test_data DataFrame"
   ]
  },
  {
   "cell_type": "code",
   "execution_count": 8,
   "id": "da758a13",
   "metadata": {},
   "outputs": [],
   "source": [
    "test_data['Item_Outlet_Sales'] = predictions\n",
    "\n",
    "# Save the updated DataFrame with predictions\n",
    "test_data.to_csv('test_file_with_predictions.csv', index=False)"
   ]
  }
 ],
 "metadata": {
  "kernelspec": {
   "display_name": "Python 3 (ipykernel)",
   "language": "python",
   "name": "python3"
  },
  "language_info": {
   "codemirror_mode": {
    "name": "ipython",
    "version": 3
   },
   "file_extension": ".py",
   "mimetype": "text/x-python",
   "name": "python",
   "nbconvert_exporter": "python",
   "pygments_lexer": "ipython3",
   "version": "3.11.4"
  }
 },
 "nbformat": 4,
 "nbformat_minor": 5
}
