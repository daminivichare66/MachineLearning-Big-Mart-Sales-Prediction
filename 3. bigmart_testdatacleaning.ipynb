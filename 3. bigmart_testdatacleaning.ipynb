{
 "cells": [
  {
   "cell_type": "markdown",
   "id": "d7303871",
   "metadata": {},
   "source": [
    "### Import Libraries"
   ]
  },
  {
   "cell_type": "code",
   "execution_count": 1,
   "id": "5d617fb7",
   "metadata": {},
   "outputs": [],
   "source": [
    "import pandas as pd\n",
    "import numpy as np\n",
    "import matplotlib.pyplot as plt\n",
    "import seaborn as sns\n",
    "from sklearn.preprocessing import LabelEncoder\n",
    "import joblib\n",
    "\n",
    "import warnings\n",
    "warnings.filterwarnings('ignore')"
   ]
  },
  {
   "cell_type": "markdown",
   "id": "3c992a08",
   "metadata": {},
   "source": [
    "### Read CSV file"
   ]
  },
  {
   "cell_type": "code",
   "execution_count": 2,
   "id": "40f0691b",
   "metadata": {},
   "outputs": [],
   "source": [
    "test_data = pd.read_csv('test.csv')"
   ]
  },
  {
   "cell_type": "markdown",
   "id": "f06cc933",
   "metadata": {},
   "source": [
    "### Display Data"
   ]
  },
  {
   "cell_type": "code",
   "execution_count": 3,
   "id": "4b1e254d",
   "metadata": {},
   "outputs": [
    {
     "data": {
      "text/html": [
       "<div>\n",
       "<style scoped>\n",
       "    .dataframe tbody tr th:only-of-type {\n",
       "        vertical-align: middle;\n",
       "    }\n",
       "\n",
       "    .dataframe tbody tr th {\n",
       "        vertical-align: top;\n",
       "    }\n",
       "\n",
       "    .dataframe thead th {\n",
       "        text-align: right;\n",
       "    }\n",
       "</style>\n",
       "<table border=\"1\" class=\"dataframe\">\n",
       "  <thead>\n",
       "    <tr style=\"text-align: right;\">\n",
       "      <th></th>\n",
       "      <th>Item_Identifier</th>\n",
       "      <th>Item_Weight</th>\n",
       "      <th>Item_Fat_Content</th>\n",
       "      <th>Item_Visibility</th>\n",
       "      <th>Item_Type</th>\n",
       "      <th>Item_MRP</th>\n",
       "      <th>Outlet_Identifier</th>\n",
       "      <th>Outlet_Establishment_Year</th>\n",
       "      <th>Outlet_Size</th>\n",
       "      <th>Outlet_Location_Type</th>\n",
       "      <th>Outlet_Type</th>\n",
       "    </tr>\n",
       "  </thead>\n",
       "  <tbody>\n",
       "    <tr>\n",
       "      <th>0</th>\n",
       "      <td>FDW58</td>\n",
       "      <td>20.750</td>\n",
       "      <td>Low Fat</td>\n",
       "      <td>0.007565</td>\n",
       "      <td>Snack Foods</td>\n",
       "      <td>107.8622</td>\n",
       "      <td>OUT049</td>\n",
       "      <td>1999</td>\n",
       "      <td>Medium</td>\n",
       "      <td>Tier 1</td>\n",
       "      <td>Supermarket Type1</td>\n",
       "    </tr>\n",
       "    <tr>\n",
       "      <th>1</th>\n",
       "      <td>FDW14</td>\n",
       "      <td>8.300</td>\n",
       "      <td>reg</td>\n",
       "      <td>0.038428</td>\n",
       "      <td>Dairy</td>\n",
       "      <td>87.3198</td>\n",
       "      <td>OUT017</td>\n",
       "      <td>2007</td>\n",
       "      <td>NaN</td>\n",
       "      <td>Tier 2</td>\n",
       "      <td>Supermarket Type1</td>\n",
       "    </tr>\n",
       "    <tr>\n",
       "      <th>2</th>\n",
       "      <td>NCN55</td>\n",
       "      <td>14.600</td>\n",
       "      <td>Low Fat</td>\n",
       "      <td>0.099575</td>\n",
       "      <td>Others</td>\n",
       "      <td>241.7538</td>\n",
       "      <td>OUT010</td>\n",
       "      <td>1998</td>\n",
       "      <td>NaN</td>\n",
       "      <td>Tier 3</td>\n",
       "      <td>Grocery Store</td>\n",
       "    </tr>\n",
       "    <tr>\n",
       "      <th>3</th>\n",
       "      <td>FDQ58</td>\n",
       "      <td>7.315</td>\n",
       "      <td>Low Fat</td>\n",
       "      <td>0.015388</td>\n",
       "      <td>Snack Foods</td>\n",
       "      <td>155.0340</td>\n",
       "      <td>OUT017</td>\n",
       "      <td>2007</td>\n",
       "      <td>NaN</td>\n",
       "      <td>Tier 2</td>\n",
       "      <td>Supermarket Type1</td>\n",
       "    </tr>\n",
       "    <tr>\n",
       "      <th>4</th>\n",
       "      <td>FDY38</td>\n",
       "      <td>NaN</td>\n",
       "      <td>Regular</td>\n",
       "      <td>0.118599</td>\n",
       "      <td>Dairy</td>\n",
       "      <td>234.2300</td>\n",
       "      <td>OUT027</td>\n",
       "      <td>1985</td>\n",
       "      <td>Medium</td>\n",
       "      <td>Tier 3</td>\n",
       "      <td>Supermarket Type3</td>\n",
       "    </tr>\n",
       "  </tbody>\n",
       "</table>\n",
       "</div>"
      ],
      "text/plain": [
       "  Item_Identifier  Item_Weight Item_Fat_Content  Item_Visibility    Item_Type  \\\n",
       "0           FDW58       20.750          Low Fat         0.007565  Snack Foods   \n",
       "1           FDW14        8.300              reg         0.038428        Dairy   \n",
       "2           NCN55       14.600          Low Fat         0.099575       Others   \n",
       "3           FDQ58        7.315          Low Fat         0.015388  Snack Foods   \n",
       "4           FDY38          NaN          Regular         0.118599        Dairy   \n",
       "\n",
       "   Item_MRP Outlet_Identifier  Outlet_Establishment_Year Outlet_Size  \\\n",
       "0  107.8622            OUT049                       1999      Medium   \n",
       "1   87.3198            OUT017                       2007         NaN   \n",
       "2  241.7538            OUT010                       1998         NaN   \n",
       "3  155.0340            OUT017                       2007         NaN   \n",
       "4  234.2300            OUT027                       1985      Medium   \n",
       "\n",
       "  Outlet_Location_Type        Outlet_Type  \n",
       "0               Tier 1  Supermarket Type1  \n",
       "1               Tier 2  Supermarket Type1  \n",
       "2               Tier 3      Grocery Store  \n",
       "3               Tier 2  Supermarket Type1  \n",
       "4               Tier 3  Supermarket Type3  "
      ]
     },
     "execution_count": 3,
     "metadata": {},
     "output_type": "execute_result"
    }
   ],
   "source": [
    "test_data.head()"
   ]
  },
  {
   "cell_type": "markdown",
   "id": "a0a93789",
   "metadata": {},
   "source": [
    "### Replicate handling of missing values and label encoding as done for train data"
   ]
  },
  {
   "cell_type": "code",
   "execution_count": 4,
   "id": "eaacdf85",
   "metadata": {},
   "outputs": [],
   "source": [
    "test_data['Item_Weight'] = test_data.groupby('Item_Type')['Item_Weight'].transform(lambda x: x.fillna(x.mean()))"
   ]
  },
  {
   "cell_type": "code",
   "execution_count": 5,
   "id": "faaf23ef",
   "metadata": {},
   "outputs": [],
   "source": [
    "test_data['Outlet_Size'] = test_data.groupby(['Outlet_Establishment_Year', 'Outlet_Location_Type', 'Outlet_Type'])['Outlet_Size'].transform(lambda x: x.fillna(x.mode().iloc[0] if not x.mode().empty else 'Unknown'))"
   ]
  },
  {
   "cell_type": "code",
   "execution_count": 6,
   "id": "c85be127",
   "metadata": {},
   "outputs": [],
   "source": [
    "test_data['Item_Visibility'] = test_data.groupby('Item_Identifier')['Item_Visibility'].transform(lambda x: x.replace(0, x.mean()))"
   ]
  },
  {
   "cell_type": "code",
   "execution_count": 7,
   "id": "e1fb53b4",
   "metadata": {},
   "outputs": [],
   "source": [
    "test_data['Item_Fat_Content'] = test_data['Item_Fat_Content'].replace({'Low Fat': 1, 'low fat': 1, 'LF': 1, 'Regular': 2, 'reg': 2  })\n",
    "test_data['Outlet_Size'] = test_data['Outlet_Size'].replace({'Unknown': 0, 'Small': 1, 'Medium': 2, 'High': 3 })\n",
    "test_data['Outlet_Location_Type'] = test_data['Outlet_Location_Type'].replace({'Tier 1': 1, 'Tier 2': 2, 'Tier 3': 3 })\n",
    "test_data['Outlet_Type'] = test_data['Outlet_Type'].replace({'Grocery Store': 0, 'Supermarket Type1': 1, 'Supermarket Type2': 2, 'Supermarket Type3': 3 })"
   ]
  },
  {
   "cell_type": "code",
   "execution_count": 8,
   "id": "c4dd9745",
   "metadata": {},
   "outputs": [],
   "source": [
    "test_data['Item_Fat_Content'] = test_data['Item_Fat_Content'].astype(int)\n",
    "test_data['Outlet_Size'] = test_data['Outlet_Size'].astype(int)\n",
    "test_data['Outlet_Location_Type'] = test_data['Outlet_Location_Type'].astype(int)"
   ]
  },
  {
   "cell_type": "code",
   "execution_count": 9,
   "id": "e2a0bb1a",
   "metadata": {},
   "outputs": [],
   "source": [
    "label_encoder_item = LabelEncoder()\n",
    "label_encoder_outlet = LabelEncoder()\n",
    "label_encoder_type = LabelEncoder()\n",
    "\n",
    "# Fit and transform the 'Item_Identifier' column\n",
    "test_data['Item_Identifier'] = label_encoder_item.fit_transform(test_data['Item_Identifier'])\n",
    "\n",
    "# Fit and transform the 'Outlet_Identifier' column\n",
    "test_data['Outlet_Identifier'] = label_encoder_outlet.fit_transform(test_data['Outlet_Identifier'])\n",
    "\n",
    "# Fit and transform the 'Outlet_Identifier' column\n",
    "test_data['Item_Type'] = label_encoder_type.fit_transform(test_data['Item_Type'])"
   ]
  },
  {
   "cell_type": "markdown",
   "id": "655e89b5",
   "metadata": {},
   "source": [
    "### Save the test_data file"
   ]
  },
  {
   "cell_type": "code",
   "execution_count": 10,
   "id": "fc6c94b5",
   "metadata": {},
   "outputs": [],
   "source": [
    "test_data.to_csv('test_data.csv', index=False)"
   ]
  },
  {
   "cell_type": "markdown",
   "id": "5f7f3ffc",
   "metadata": {},
   "source": [
    "### Save the label encoder instances to files"
   ]
  },
  {
   "cell_type": "code",
   "execution_count": 11,
   "id": "5fd07c1a",
   "metadata": {},
   "outputs": [
    {
     "data": {
      "text/plain": [
       "['label_encoder_type.joblib']"
      ]
     },
     "execution_count": 11,
     "metadata": {},
     "output_type": "execute_result"
    }
   ],
   "source": [
    "joblib.dump(label_encoder_item, 'label_encoder_item.joblib')\n",
    "joblib.dump(label_encoder_outlet, 'label_encoder_outlet.joblib')\n",
    "joblib.dump(label_encoder_type, 'label_encoder_type.joblib')"
   ]
  }
 ],
 "metadata": {
  "kernelspec": {
   "display_name": "Python 3 (ipykernel)",
   "language": "python",
   "name": "python3"
  },
  "language_info": {
   "codemirror_mode": {
    "name": "ipython",
    "version": 3
   },
   "file_extension": ".py",
   "mimetype": "text/x-python",
   "name": "python",
   "nbconvert_exporter": "python",
   "pygments_lexer": "ipython3",
   "version": "3.11.4"
  }
 },
 "nbformat": 4,
 "nbformat_minor": 5
}
